{
  "cells": [
    {
      "cell_type": "markdown",
      "metadata": {
        "id": "Rd1RFiafqB6k"
      },
      "source": [
        "# Hypothesis Testing - Cumulative Lab\n",
        "\n",
        "## Introduction\n",
        "\n",
        "In this cumulative lab, you will use pandas to clean up a dataset and perform some EDA, then perform statistical tests and interpret their results in order to answer some business questions.\n",
        "\n",
        "## Objectives\n",
        "\n",
        "You will be able to:\n",
        "\n",
        "* Practice using a data dictionary\n",
        "* Practice using pandas to prepare data for statistical analysis\n",
        "* Practice identifying an appropriate statistical test for a given question\n",
        "* Practice defining the null and alternative hypotheses\n",
        "* Practice executing statistical tests and interpreting their results"
      ]
    },
    {
      "cell_type": "markdown",
      "metadata": {
        "id": "1L_pzRYqqB6l"
      },
      "source": [
        "## Your Task: Analyzing Health Trends\n",
        "\n",
        "![tissues and tea mug](https://github.com/bmjaron/dsc-hypothesis-testing-lab/blob/master/images/sick_day.jpg?raw=1)\n",
        "\n",
        "Photo by <a href=\"https://unsplash.com/@kellysikkema?utm_source=unsplash&utm_medium=referral&utm_content=creditCopyText\">Kelly Sikkema</a> on <a href=\"/?utm_source=unsplash&utm_medium=referral&utm_content=creditCopyText\">Unsplash</a>"
      ]
    },
    {
      "cell_type": "markdown",
      "metadata": {
        "id": "iT_3JO93qB6l"
      },
      "source": [
        "### Business Understanding\n",
        "\n",
        "Flatiron Health Insurance (FHI) is a growing private healthcare insurance provider founded on the premise that using data and analytics can improve the health insurance industry by providing better care and offerings to its patients. Every year, the Center for Disease Control (CDC) conducts surveys to understand the latest demographic, health, and fitness trends. You have been tasked with analyzing the recently published results of the 2017-2018 survey and providing your recommendations back to the Chief Analytics Officer and Chief Marketing Officer. You have been assigned the task of taking a first look at the data and beginning to answer several key questions:\n",
        "\t\t\t\t\t\t\t\t\t\t\t \t\t\t\t\t\t\t\t\n",
        "1. How does health status, represented by average number of days with bad physical health in the past month (`PHYSHLTH`), differ by state?\t\t\t\t\t \t\t\t\t\t\t\t\t\n",
        "2. Digging deeper into the data, what are some factors that impact health (demographics, behaviors, etc.)?\t\n",
        "\n",
        "### Data Understanding\n",
        "\n",
        "To get you started, the IT department formatted the data set into a tab delimited text file for only NY, NJ, and CT (FHI’s primary markets) called `case_study.csv`.\n",
        "\n",
        "There is also a PDF data dictionary called `data_dictionary.pdf`, which explains the meanings of the features and codes contained in this dataset.\n",
        "\n",
        "Both files are located in the `data/` directory of this repository.\n",
        "\n",
        "Prior to each statistical test, you will need to perform some data preparation, which could include:\n",
        "\n",
        "* Filtering out rows with irrelevant values\n",
        "* Transforming data from codes into human-readable values\n",
        "* Binning data to transform it from numeric to categorical\n",
        "* Creating new columns based on queries of the values in other columns\n",
        "\n",
        "For steps 2-5, you will need to select and execute an appropriate statistical test. Recall these tests we have learned so far:\n",
        "\n",
        "1. [Chi-squared test](https://docs.scipy.org/doc/scipy/reference/generated/scipy.stats.chi2_contingency.html): used for comparing a categorical feature against a categorical feature, to determine whether they are independent\n",
        "2. [t-test](https://docs.scipy.org/doc/scipy/reference/generated/scipy.stats.ttest_ind.html): used for comparing two categories of a numeric feature, to determine whether their means are the same across categories\n",
        "3. [ANOVA](https://www.statsmodels.org/stable/generated/statsmodels.stats.anova.anova_lm.html#statsmodels.stats.anova.anova_lm): used for comparing more than two categories of a numeric feature, to determine whether their means are the same across categories"
      ]
    },
    {
      "cell_type": "markdown",
      "metadata": {
        "id": "0FQkl4u4qB6m"
      },
      "source": [
        "### Requirements\n",
        "\n",
        "#### 1. Prepare `PHYSHLTH` Data for Analysis\n",
        "\n",
        "Using the data dictionary, ensure that you understand the meaning of the `PHYSHLTH` column. Then clean the data so that only valid records of `PHYSHLTH` remain.\n",
        "\n",
        "#### 2. Describe the Distribution of Health Status by State\n",
        "\n",
        "Does health status (`PHYSHLTH`) differ by state (`STATE_`)? If so, by how much, and is it statistically significant?\n",
        "\n",
        "#### 3. Describe the Relationship between Health Status and Home Ownership Status\n",
        "\n",
        "Does health status (`PHYSHLTH`) differ between home owners and renters (`RENTHOM1`)? If so, by how much, and is it statistically significant?\n",
        "\n",
        "#### 4. Describe the Relationship between Chronic Sickness and Nicotine Use\n",
        "\n",
        "Does chronic sickness (`PHYSHLTH >= 15`) differ based on nicotine use (various columns)? If so, by how much, and is it statistically significant?\n",
        "\n",
        "#### 5. Choose Your Own Question\n",
        "\n",
        "Thinking about the business case, what is another question that might be useful to answer? Perform all analysis steps to answer this question."
      ]
    },
    {
      "cell_type": "markdown",
      "metadata": {
        "id": "-WjYibqdqB6m"
      },
      "source": [
        "## 1. Prepare `PHYSHLTH` Data for Analysis\n",
        "\n",
        "In the cells below, we include the relevant imports and load the data into a dataframe called `df`:"
      ]
    },
    {
      "cell_type": "code",
      "execution_count": 1,
      "metadata": {
        "id": "xyzbcHqIqB6m"
      },
      "outputs": [],
      "source": [
        "# Run this cell without changes\n",
        "import pandas as pd\n",
        "import matplotlib.pyplot as plt\n",
        "import numpy as np\n",
        "%matplotlib inline"
      ]
    },
    {
      "cell_type": "code",
      "execution_count": 2,
      "metadata": {
        "id": "owJDCfbmqB6n",
        "outputId": "7678319c-96d8-48ac-ef71-d7f91f01072c",
        "colab": {
          "base_uri": "https://localhost:8080/",
          "height": 487
        }
      },
      "outputs": [
        {
          "output_type": "execute_result",
          "data": {
            "text/plain": [
              "        _STATE  FMONTH    IDATE  IMONTH  IDAY  IYEAR  DISPCODE       SEQNO  \\\n",
              "49938      9.0     5.0  5172017       5    17   2017    1200.0  2017000001   \n",
              "49939      9.0     2.0  2142017       2    14   2017    1200.0  2017000002   \n",
              "49940      9.0     1.0  1292017       1    29   2017    1200.0  2017000003   \n",
              "49941      9.0     7.0  9112017       9    11   2017    1200.0  2017000004   \n",
              "49942      9.0     5.0  7182017       7    18   2017    1200.0  2017000005   \n",
              "...        ...     ...      ...     ...   ...    ...       ...         ...   \n",
              "303774    36.0     5.0  5152017       5    15   2017    1200.0  2017012245   \n",
              "303775    36.0     6.0  6252017       6    25   2017    1200.0  2017012246   \n",
              "303776    36.0     7.0  7212017       7    21   2017    1200.0  2017012247   \n",
              "303777    36.0     7.0  7202017       7    20   2017    1200.0  2017012248   \n",
              "303778    36.0     7.0  7252017       7    25   2017    1200.0  2017012249   \n",
              "\n",
              "                _PSU  CTELENM1  ...  _PA300R2  _PA30021  _PASTRNG  _PAREC1  \\\n",
              "49938   2.017000e+09       NaN  ...       2.0       2.0       2.0      4.0   \n",
              "49939   2.017000e+09       NaN  ...       1.0       1.0       1.0      1.0   \n",
              "49940   2.017000e+09       NaN  ...       3.0       2.0       1.0      3.0   \n",
              "49941   2.017000e+09       NaN  ...       2.0       2.0       2.0      2.0   \n",
              "49942   2.017000e+09       NaN  ...       2.0       2.0       1.0      1.0   \n",
              "...              ...       ...  ...       ...       ...       ...      ...   \n",
              "303774  2.017012e+09       NaN  ...       3.0       2.0       2.0      4.0   \n",
              "303775  2.017012e+09       NaN  ...       2.0       2.0       2.0      4.0   \n",
              "303776  2.017012e+09       NaN  ...       2.0       2.0       2.0      4.0   \n",
              "303777  2.017012e+09       NaN  ...       9.0       9.0       9.0      9.0   \n",
              "303778  2.017012e+09       NaN  ...       3.0       2.0       2.0      4.0   \n",
              "\n",
              "        _PASTAE1  _RFSEAT2  _RFSEAT3  _FLSHOT6  _PNEUMO2  _AIDTST3  \n",
              "49938        2.0       1.0       1.0       NaN       NaN       1.0  \n",
              "49939        1.0       2.0       2.0       NaN       NaN       2.0  \n",
              "49940        2.0       1.0       1.0       NaN       NaN       2.0  \n",
              "49941        2.0       1.0       1.0       NaN       NaN       1.0  \n",
              "49942        1.0       1.0       1.0       NaN       NaN       2.0  \n",
              "...          ...       ...       ...       ...       ...       ...  \n",
              "303774       2.0       1.0       1.0       NaN       NaN       1.0  \n",
              "303775       2.0       1.0       1.0       NaN       NaN       1.0  \n",
              "303776       2.0       1.0       1.0       NaN       NaN       1.0  \n",
              "303777       9.0       9.0       9.0       9.0       9.0       9.0  \n",
              "303778       2.0       1.0       1.0       NaN       NaN       1.0  \n",
              "\n",
              "[34545 rows x 358 columns]"
            ],
            "text/html": [
              "\n",
              "  <div id=\"df-db333178-f011-4cb2-b684-9cee94bbe8db\">\n",
              "    <div class=\"colab-df-container\">\n",
              "      <div>\n",
              "<style scoped>\n",
              "    .dataframe tbody tr th:only-of-type {\n",
              "        vertical-align: middle;\n",
              "    }\n",
              "\n",
              "    .dataframe tbody tr th {\n",
              "        vertical-align: top;\n",
              "    }\n",
              "\n",
              "    .dataframe thead th {\n",
              "        text-align: right;\n",
              "    }\n",
              "</style>\n",
              "<table border=\"1\" class=\"dataframe\">\n",
              "  <thead>\n",
              "    <tr style=\"text-align: right;\">\n",
              "      <th></th>\n",
              "      <th>_STATE</th>\n",
              "      <th>FMONTH</th>\n",
              "      <th>IDATE</th>\n",
              "      <th>IMONTH</th>\n",
              "      <th>IDAY</th>\n",
              "      <th>IYEAR</th>\n",
              "      <th>DISPCODE</th>\n",
              "      <th>SEQNO</th>\n",
              "      <th>_PSU</th>\n",
              "      <th>CTELENM1</th>\n",
              "      <th>...</th>\n",
              "      <th>_PA300R2</th>\n",
              "      <th>_PA30021</th>\n",
              "      <th>_PASTRNG</th>\n",
              "      <th>_PAREC1</th>\n",
              "      <th>_PASTAE1</th>\n",
              "      <th>_RFSEAT2</th>\n",
              "      <th>_RFSEAT3</th>\n",
              "      <th>_FLSHOT6</th>\n",
              "      <th>_PNEUMO2</th>\n",
              "      <th>_AIDTST3</th>\n",
              "    </tr>\n",
              "  </thead>\n",
              "  <tbody>\n",
              "    <tr>\n",
              "      <th>49938</th>\n",
              "      <td>9.0</td>\n",
              "      <td>5.0</td>\n",
              "      <td>5172017</td>\n",
              "      <td>5</td>\n",
              "      <td>17</td>\n",
              "      <td>2017</td>\n",
              "      <td>1200.0</td>\n",
              "      <td>2017000001</td>\n",
              "      <td>2.017000e+09</td>\n",
              "      <td>NaN</td>\n",
              "      <td>...</td>\n",
              "      <td>2.0</td>\n",
              "      <td>2.0</td>\n",
              "      <td>2.0</td>\n",
              "      <td>4.0</td>\n",
              "      <td>2.0</td>\n",
              "      <td>1.0</td>\n",
              "      <td>1.0</td>\n",
              "      <td>NaN</td>\n",
              "      <td>NaN</td>\n",
              "      <td>1.0</td>\n",
              "    </tr>\n",
              "    <tr>\n",
              "      <th>49939</th>\n",
              "      <td>9.0</td>\n",
              "      <td>2.0</td>\n",
              "      <td>2142017</td>\n",
              "      <td>2</td>\n",
              "      <td>14</td>\n",
              "      <td>2017</td>\n",
              "      <td>1200.0</td>\n",
              "      <td>2017000002</td>\n",
              "      <td>2.017000e+09</td>\n",
              "      <td>NaN</td>\n",
              "      <td>...</td>\n",
              "      <td>1.0</td>\n",
              "      <td>1.0</td>\n",
              "      <td>1.0</td>\n",
              "      <td>1.0</td>\n",
              "      <td>1.0</td>\n",
              "      <td>2.0</td>\n",
              "      <td>2.0</td>\n",
              "      <td>NaN</td>\n",
              "      <td>NaN</td>\n",
              "      <td>2.0</td>\n",
              "    </tr>\n",
              "    <tr>\n",
              "      <th>49940</th>\n",
              "      <td>9.0</td>\n",
              "      <td>1.0</td>\n",
              "      <td>1292017</td>\n",
              "      <td>1</td>\n",
              "      <td>29</td>\n",
              "      <td>2017</td>\n",
              "      <td>1200.0</td>\n",
              "      <td>2017000003</td>\n",
              "      <td>2.017000e+09</td>\n",
              "      <td>NaN</td>\n",
              "      <td>...</td>\n",
              "      <td>3.0</td>\n",
              "      <td>2.0</td>\n",
              "      <td>1.0</td>\n",
              "      <td>3.0</td>\n",
              "      <td>2.0</td>\n",
              "      <td>1.0</td>\n",
              "      <td>1.0</td>\n",
              "      <td>NaN</td>\n",
              "      <td>NaN</td>\n",
              "      <td>2.0</td>\n",
              "    </tr>\n",
              "    <tr>\n",
              "      <th>49941</th>\n",
              "      <td>9.0</td>\n",
              "      <td>7.0</td>\n",
              "      <td>9112017</td>\n",
              "      <td>9</td>\n",
              "      <td>11</td>\n",
              "      <td>2017</td>\n",
              "      <td>1200.0</td>\n",
              "      <td>2017000004</td>\n",
              "      <td>2.017000e+09</td>\n",
              "      <td>NaN</td>\n",
              "      <td>...</td>\n",
              "      <td>2.0</td>\n",
              "      <td>2.0</td>\n",
              "      <td>2.0</td>\n",
              "      <td>2.0</td>\n",
              "      <td>2.0</td>\n",
              "      <td>1.0</td>\n",
              "      <td>1.0</td>\n",
              "      <td>NaN</td>\n",
              "      <td>NaN</td>\n",
              "      <td>1.0</td>\n",
              "    </tr>\n",
              "    <tr>\n",
              "      <th>49942</th>\n",
              "      <td>9.0</td>\n",
              "      <td>5.0</td>\n",
              "      <td>7182017</td>\n",
              "      <td>7</td>\n",
              "      <td>18</td>\n",
              "      <td>2017</td>\n",
              "      <td>1200.0</td>\n",
              "      <td>2017000005</td>\n",
              "      <td>2.017000e+09</td>\n",
              "      <td>NaN</td>\n",
              "      <td>...</td>\n",
              "      <td>2.0</td>\n",
              "      <td>2.0</td>\n",
              "      <td>1.0</td>\n",
              "      <td>1.0</td>\n",
              "      <td>1.0</td>\n",
              "      <td>1.0</td>\n",
              "      <td>1.0</td>\n",
              "      <td>NaN</td>\n",
              "      <td>NaN</td>\n",
              "      <td>2.0</td>\n",
              "    </tr>\n",
              "    <tr>\n",
              "      <th>...</th>\n",
              "      <td>...</td>\n",
              "      <td>...</td>\n",
              "      <td>...</td>\n",
              "      <td>...</td>\n",
              "      <td>...</td>\n",
              "      <td>...</td>\n",
              "      <td>...</td>\n",
              "      <td>...</td>\n",
              "      <td>...</td>\n",
              "      <td>...</td>\n",
              "      <td>...</td>\n",
              "      <td>...</td>\n",
              "      <td>...</td>\n",
              "      <td>...</td>\n",
              "      <td>...</td>\n",
              "      <td>...</td>\n",
              "      <td>...</td>\n",
              "      <td>...</td>\n",
              "      <td>...</td>\n",
              "      <td>...</td>\n",
              "      <td>...</td>\n",
              "    </tr>\n",
              "    <tr>\n",
              "      <th>303774</th>\n",
              "      <td>36.0</td>\n",
              "      <td>5.0</td>\n",
              "      <td>5152017</td>\n",
              "      <td>5</td>\n",
              "      <td>15</td>\n",
              "      <td>2017</td>\n",
              "      <td>1200.0</td>\n",
              "      <td>2017012245</td>\n",
              "      <td>2.017012e+09</td>\n",
              "      <td>NaN</td>\n",
              "      <td>...</td>\n",
              "      <td>3.0</td>\n",
              "      <td>2.0</td>\n",
              "      <td>2.0</td>\n",
              "      <td>4.0</td>\n",
              "      <td>2.0</td>\n",
              "      <td>1.0</td>\n",
              "      <td>1.0</td>\n",
              "      <td>NaN</td>\n",
              "      <td>NaN</td>\n",
              "      <td>1.0</td>\n",
              "    </tr>\n",
              "    <tr>\n",
              "      <th>303775</th>\n",
              "      <td>36.0</td>\n",
              "      <td>6.0</td>\n",
              "      <td>6252017</td>\n",
              "      <td>6</td>\n",
              "      <td>25</td>\n",
              "      <td>2017</td>\n",
              "      <td>1200.0</td>\n",
              "      <td>2017012246</td>\n",
              "      <td>2.017012e+09</td>\n",
              "      <td>NaN</td>\n",
              "      <td>...</td>\n",
              "      <td>2.0</td>\n",
              "      <td>2.0</td>\n",
              "      <td>2.0</td>\n",
              "      <td>4.0</td>\n",
              "      <td>2.0</td>\n",
              "      <td>1.0</td>\n",
              "      <td>1.0</td>\n",
              "      <td>NaN</td>\n",
              "      <td>NaN</td>\n",
              "      <td>1.0</td>\n",
              "    </tr>\n",
              "    <tr>\n",
              "      <th>303776</th>\n",
              "      <td>36.0</td>\n",
              "      <td>7.0</td>\n",
              "      <td>7212017</td>\n",
              "      <td>7</td>\n",
              "      <td>21</td>\n",
              "      <td>2017</td>\n",
              "      <td>1200.0</td>\n",
              "      <td>2017012247</td>\n",
              "      <td>2.017012e+09</td>\n",
              "      <td>NaN</td>\n",
              "      <td>...</td>\n",
              "      <td>2.0</td>\n",
              "      <td>2.0</td>\n",
              "      <td>2.0</td>\n",
              "      <td>4.0</td>\n",
              "      <td>2.0</td>\n",
              "      <td>1.0</td>\n",
              "      <td>1.0</td>\n",
              "      <td>NaN</td>\n",
              "      <td>NaN</td>\n",
              "      <td>1.0</td>\n",
              "    </tr>\n",
              "    <tr>\n",
              "      <th>303777</th>\n",
              "      <td>36.0</td>\n",
              "      <td>7.0</td>\n",
              "      <td>7202017</td>\n",
              "      <td>7</td>\n",
              "      <td>20</td>\n",
              "      <td>2017</td>\n",
              "      <td>1200.0</td>\n",
              "      <td>2017012248</td>\n",
              "      <td>2.017012e+09</td>\n",
              "      <td>NaN</td>\n",
              "      <td>...</td>\n",
              "      <td>9.0</td>\n",
              "      <td>9.0</td>\n",
              "      <td>9.0</td>\n",
              "      <td>9.0</td>\n",
              "      <td>9.0</td>\n",
              "      <td>9.0</td>\n",
              "      <td>9.0</td>\n",
              "      <td>9.0</td>\n",
              "      <td>9.0</td>\n",
              "      <td>9.0</td>\n",
              "    </tr>\n",
              "    <tr>\n",
              "      <th>303778</th>\n",
              "      <td>36.0</td>\n",
              "      <td>7.0</td>\n",
              "      <td>7252017</td>\n",
              "      <td>7</td>\n",
              "      <td>25</td>\n",
              "      <td>2017</td>\n",
              "      <td>1200.0</td>\n",
              "      <td>2017012249</td>\n",
              "      <td>2.017012e+09</td>\n",
              "      <td>NaN</td>\n",
              "      <td>...</td>\n",
              "      <td>3.0</td>\n",
              "      <td>2.0</td>\n",
              "      <td>2.0</td>\n",
              "      <td>4.0</td>\n",
              "      <td>2.0</td>\n",
              "      <td>1.0</td>\n",
              "      <td>1.0</td>\n",
              "      <td>NaN</td>\n",
              "      <td>NaN</td>\n",
              "      <td>1.0</td>\n",
              "    </tr>\n",
              "  </tbody>\n",
              "</table>\n",
              "<p>34545 rows × 358 columns</p>\n",
              "</div>\n",
              "      <button class=\"colab-df-convert\" onclick=\"convertToInteractive('df-db333178-f011-4cb2-b684-9cee94bbe8db')\"\n",
              "              title=\"Convert this dataframe to an interactive table.\"\n",
              "              style=\"display:none;\">\n",
              "        \n",
              "  <svg xmlns=\"http://www.w3.org/2000/svg\" height=\"24px\"viewBox=\"0 0 24 24\"\n",
              "       width=\"24px\">\n",
              "    <path d=\"M0 0h24v24H0V0z\" fill=\"none\"/>\n",
              "    <path d=\"M18.56 5.44l.94 2.06.94-2.06 2.06-.94-2.06-.94-.94-2.06-.94 2.06-2.06.94zm-11 1L8.5 8.5l.94-2.06 2.06-.94-2.06-.94L8.5 2.5l-.94 2.06-2.06.94zm10 10l.94 2.06.94-2.06 2.06-.94-2.06-.94-.94-2.06-.94 2.06-2.06.94z\"/><path d=\"M17.41 7.96l-1.37-1.37c-.4-.4-.92-.59-1.43-.59-.52 0-1.04.2-1.43.59L10.3 9.45l-7.72 7.72c-.78.78-.78 2.05 0 2.83L4 21.41c.39.39.9.59 1.41.59.51 0 1.02-.2 1.41-.59l7.78-7.78 2.81-2.81c.8-.78.8-2.07 0-2.86zM5.41 20L4 18.59l7.72-7.72 1.47 1.35L5.41 20z\"/>\n",
              "  </svg>\n",
              "      </button>\n",
              "      \n",
              "  <style>\n",
              "    .colab-df-container {\n",
              "      display:flex;\n",
              "      flex-wrap:wrap;\n",
              "      gap: 12px;\n",
              "    }\n",
              "\n",
              "    .colab-df-convert {\n",
              "      background-color: #E8F0FE;\n",
              "      border: none;\n",
              "      border-radius: 50%;\n",
              "      cursor: pointer;\n",
              "      display: none;\n",
              "      fill: #1967D2;\n",
              "      height: 32px;\n",
              "      padding: 0 0 0 0;\n",
              "      width: 32px;\n",
              "    }\n",
              "\n",
              "    .colab-df-convert:hover {\n",
              "      background-color: #E2EBFA;\n",
              "      box-shadow: 0px 1px 2px rgba(60, 64, 67, 0.3), 0px 1px 3px 1px rgba(60, 64, 67, 0.15);\n",
              "      fill: #174EA6;\n",
              "    }\n",
              "\n",
              "    [theme=dark] .colab-df-convert {\n",
              "      background-color: #3B4455;\n",
              "      fill: #D2E3FC;\n",
              "    }\n",
              "\n",
              "    [theme=dark] .colab-df-convert:hover {\n",
              "      background-color: #434B5C;\n",
              "      box-shadow: 0px 1px 3px 1px rgba(0, 0, 0, 0.15);\n",
              "      filter: drop-shadow(0px 1px 2px rgba(0, 0, 0, 0.3));\n",
              "      fill: #FFFFFF;\n",
              "    }\n",
              "  </style>\n",
              "\n",
              "      <script>\n",
              "        const buttonEl =\n",
              "          document.querySelector('#df-db333178-f011-4cb2-b684-9cee94bbe8db button.colab-df-convert');\n",
              "        buttonEl.style.display =\n",
              "          google.colab.kernel.accessAllowed ? 'block' : 'none';\n",
              "\n",
              "        async function convertToInteractive(key) {\n",
              "          const element = document.querySelector('#df-db333178-f011-4cb2-b684-9cee94bbe8db');\n",
              "          const dataTable =\n",
              "            await google.colab.kernel.invokeFunction('convertToInteractive',\n",
              "                                                     [key], {});\n",
              "          if (!dataTable) return;\n",
              "\n",
              "          const docLinkHtml = 'Like what you see? Visit the ' +\n",
              "            '<a target=\"_blank\" href=https://colab.research.google.com/notebooks/data_table.ipynb>data table notebook</a>'\n",
              "            + ' to learn more about interactive tables.';\n",
              "          element.innerHTML = '';\n",
              "          dataTable['output_type'] = 'display_data';\n",
              "          await google.colab.output.renderOutput(dataTable, element);\n",
              "          const docLink = document.createElement('div');\n",
              "          docLink.innerHTML = docLinkHtml;\n",
              "          element.appendChild(docLink);\n",
              "        }\n",
              "      </script>\n",
              "    </div>\n",
              "  </div>\n",
              "  "
            ]
          },
          "metadata": {},
          "execution_count": 2
        }
      ],
      "source": [
        "#Since I'm working in Colab I had to store the file as raw data link\n",
        "x = 'https://raw.githubusercontent.com/bmjaron/dsc-hypothesis-testing-lab/master/data/case_study.csv'\n",
        "df = pd.read_csv(x, index_col=0, low_memory=False)\n",
        "df"
      ]
    },
    {
      "cell_type": "markdown",
      "metadata": {
        "id": "td_NodcxqB6n"
      },
      "source": [
        "Our main column of interest is called `PHYSHLTH`. We display summary statistics and plot a distribution below:"
      ]
    },
    {
      "cell_type": "code",
      "execution_count": 3,
      "metadata": {
        "id": "JjbJSjfDqB6n",
        "outputId": "03f2cafe-ffbf-4584-a127-5e0b67684e42",
        "colab": {
          "base_uri": "https://localhost:8080/"
        }
      },
      "outputs": [
        {
          "output_type": "execute_result",
          "data": {
            "text/plain": [
              "count    34545.000000\n",
              "mean        60.213403\n",
              "std         37.504566\n",
              "min          1.000000\n",
              "25%         15.000000\n",
              "50%         88.000000\n",
              "75%         88.000000\n",
              "max         99.000000\n",
              "Name: PHYSHLTH, dtype: float64"
            ]
          },
          "metadata": {},
          "execution_count": 3
        }
      ],
      "source": [
        "# Run this cell without changes\n",
        "df['PHYSHLTH'].describe()"
      ]
    },
    {
      "cell_type": "code",
      "execution_count": 4,
      "metadata": {
        "id": "Y0fekYi6qB6n",
        "outputId": "475f4f81-a4ac-454b-958c-c4f97e72e19e",
        "colab": {
          "base_uri": "https://localhost:8080/",
          "height": 295
        }
      },
      "outputs": [
        {
          "output_type": "display_data",
          "data": {
            "text/plain": [
              "<Figure size 432x288 with 1 Axes>"
            ],
            "image/png": "[encoded data removed]"
          },
          "metadata": {
            "needs_background": "light"
          }
        }
      ],
      "source": [
        "# Run this cell without changes\n",
        "fig, ax = plt.subplots()\n",
        "ax.hist(df[\"PHYSHLTH\"], bins=\"auto\")\n",
        "ax.set_xlabel(\"PHYSHLTH\")\n",
        "ax.set_ylabel(\"Count\")\n",
        "ax.set_title(\"Distribution of PHYSHLTH in Raw Data\");"
      ]
    },
    {
      "cell_type": "markdown",
      "metadata": {
        "id": "2KJCsbewqB6n"
      },
      "source": [
        "This feature is supposed to represent the number of days with bad physical health out of the past 30 days. Do you see anything wrong with what is displayed above? Explain."
      ]
    },
    {
      "cell_type": "code",
      "execution_count": 5,
      "metadata": {
        "id": "yPBSv0QqqB6o",
        "outputId": "a0ffeb60-ba4b-42c8-bfd9-f71c7e2b3880",
        "colab": {
          "base_uri": "https://localhost:8080/",
          "height": 36
        }
      },
      "outputs": [
        {
          "output_type": "execute_result",
          "data": {
            "text/plain": [
              "'\\nThere are numbers that exceed 30, including 80-100. It is hard to understand how there could be 80-100 sick days in 30 days.\\n'"
            ],
            "application/vnd.google.colaboratory.intrinsic+json": {
              "type": "string"
            }
          },
          "metadata": {},
          "execution_count": 5
        }
      ],
      "source": [
        "# Replace None with appropriate text\n",
        "\"\"\"\n",
        "There are numbers that exceed 30, including 80-100. It is hard to understand how there could be 80-100 sick days in 30 days.\n",
        "\"\"\""
      ]
    },
    {
      "cell_type": "markdown",
      "metadata": {
        "id": "3FmepVIIqB6o"
      },
      "source": [
        "Look in the data dictionary, page 17, to understand what is happening with these values. Then edit the cell below so:\n",
        "\n",
        "* The records where the `PHYSHLTH` value label is `None` are converted to 0\n",
        "* The records where the `PHYSHLTH` value label is `Number of days` are kept as-is\n",
        "* All other records are dropped (i.e. records with `Don't know/Not sure`, `Refused`, and `Not asked or Missing` value labels for `PHYSHLTH` are dropped)"
      ]
    },
    {
      "cell_type": "code",
      "execution_count": 20,
      "metadata": {
        "id": "Q2qmKU-JqB6o"
      },
      "outputs": [],
      "source": [
        "df.loc[df['PHYSHLTH'] == 88.0, \"PHYSHLTH\"] = 0 #Use df.loc to change 88.0 to 0 \n",
        "df.drop(df[df['PHYSHLTH'] == 77.0].index, inplace=True)\n",
        "df.drop(df[df['PHYSHLTH'] == 99.0].index, inplace=True)\n",
        "df.drop(df[df['PHYSHLTH'] == \"BLANK\"].index, inplace=True)"
      ]
    },
    {
      "cell_type": "markdown",
      "metadata": {
        "id": "yGa1stsuqB6o"
      },
      "source": [
        "Run the code below to ensure you have the correct, cleaned dataframe:"
      ]
    },
    {
      "cell_type": "code",
      "execution_count": 21,
      "metadata": {
        "id": "5upXDArOqB6o"
      },
      "outputs": [],
      "source": [
        "# Run this cell without changes\n",
        "\n",
        "# We should have fewer rows, the same number of columns\n",
        "assert df.shape == (33747, 358)\n",
        "\n",
        "# The maximum value in this column should now be 30\n",
        "assert df[\"PHYSHLTH\"].max() == 30.0"
      ]
    },
    {
      "cell_type": "markdown",
      "metadata": {
        "id": "QwV7iaviqB6o"
      },
      "source": [
        "Now we can look at the same descriptive information on our cleaned data:"
      ]
    },
    {
      "cell_type": "code",
      "execution_count": 22,
      "metadata": {
        "id": "yGOTPiYyqB6o",
        "outputId": "521740eb-aab6-4dd4-8b1a-e3ef221e0dfe",
        "colab": {
          "base_uri": "https://localhost:8080/"
        }
      },
      "outputs": [
        {
          "output_type": "execute_result",
          "data": {
            "text/plain": [
              "count    33747.000000\n",
              "mean         4.085341\n",
              "std          8.513293\n",
              "min          0.000000\n",
              "25%          0.000000\n",
              "50%          0.000000\n",
              "75%          3.000000\n",
              "max         30.000000\n",
              "Name: PHYSHLTH, dtype: float64"
            ]
          },
          "metadata": {},
          "execution_count": 22
        }
      ],
      "source": [
        "# Run this cell without changes\n",
        "df['PHYSHLTH'].describe()"
      ]
    },
    {
      "cell_type": "code",
      "execution_count": 23,
      "metadata": {
        "id": "KbP6aCd5qB6o",
        "outputId": "7bef0a6b-81cd-46bf-c04f-c6a78dc5bcf3",
        "colab": {
          "base_uri": "https://localhost:8080/",
          "height": 295
        }
      },
      "outputs": [
        {
          "output_type": "display_data",
          "data": {
            "text/plain": [
              "<Figure size 432x288 with 1 Axes>"
            ],
            "image/png": "[encoded data removed]"
          },
          "metadata": {
            "needs_background": "light"
          }
        }
      ],
      "source": [
        "# Run this cell without changes\n",
        "fig, ax = plt.subplots()\n",
        "ax.hist(df[\"PHYSHLTH\"])\n",
        "ax.set_xlabel(\"PHYSHLTH\")\n",
        "ax.set_ylabel(\"Count\")\n",
        "ax.set_title(\"Distribution of PHYSHLTH in Cleaned Data\");"
      ]
    },
    {
      "cell_type": "markdown",
      "metadata": {
        "id": "kX3WVZykqB6o"
      },
      "source": [
        "That looks a lot more reasonable. Let's move on to the next step."
      ]
    },
    {
      "cell_type": "markdown",
      "metadata": {
        "id": "5lgPPoQ3qB6o"
      },
      "source": [
        "## 2. Describe the Distribution of Health Status by State\n",
        "\n",
        "As mentioned previously, this dataset only includes data from three states."
      ]
    },
    {
      "cell_type": "code",
      "execution_count": 24,
      "metadata": {
        "id": "18zh34nRqB6o",
        "outputId": "0b7107d3-3f86-4b19-9956-30f6c8fc18e4",
        "colab": {
          "base_uri": "https://localhost:8080/"
        }
      },
      "outputs": [
        {
          "output_type": "execute_result",
          "data": {
            "text/plain": [
              "36.0    11876\n",
              "34.0    11458\n",
              "9.0     10413\n",
              "Name: _STATE, dtype: int64"
            ]
          },
          "metadata": {},
          "execution_count": 24
        }
      ],
      "source": [
        "# Run this cell without changes\n",
        "df[\"_STATE\"].value_counts()"
      ]
    },
    {
      "cell_type": "markdown",
      "metadata": {
        "id": "6ANQ0jOcqB6p"
      },
      "source": [
        "Look in the data dictionary, pages 2-3, to determine which states map onto which codes. Then replace the numbers with strings representing the state names."
      ]
    },
    {
      "cell_type": "code",
      "execution_count": 25,
      "metadata": {
        "id": "fOkuW27HqB6p"
      },
      "outputs": [],
      "source": [
        "df.loc[df[\"_STATE\"] == 9.0, \"_STATE\"] = \"Connecticut\"\n",
        "df.loc[df[\"_STATE\"] == 36.0, \"_STATE\"] = \"New York\"\n",
        "df.loc[df[\"_STATE\"] == 34.0, \"_STATE\"] = \"New Jersey\""
      ]
    },
    {
      "cell_type": "markdown",
      "metadata": {
        "id": "JMyofyakqB6p"
      },
      "source": [
        "Below, we check the values:"
      ]
    },
    {
      "cell_type": "code",
      "execution_count": 26,
      "metadata": {
        "id": "p_9swsfNqB6p"
      },
      "outputs": [],
      "source": [
        "# Run this cell without changes\n",
        "\n",
        "# Shape should be the same\n",
        "assert df.shape == (33747, 358)\n",
        "\n",
        "# Values in state column should be changed\n",
        "assert sorted(list(df[\"_STATE\"].value_counts().index)) == ['Connecticut', 'New Jersey', 'New York']"
      ]
    },
    {
      "cell_type": "code",
      "execution_count": 27,
      "metadata": {
        "id": "Lc27KfM5qB6p",
        "outputId": "280f64ac-fa41-43f9-97ae-b640ad94b222",
        "colab": {
          "base_uri": "https://localhost:8080/",
          "height": 404
        }
      },
      "outputs": [
        {
          "output_type": "display_data",
          "data": {
            "text/plain": [
              "<Figure size 1080x432 with 1 Axes>"
            ],
            "image/png": "[encoded data removed]"
          },
          "metadata": {
            "needs_background": "light"
          }
        }
      ],
      "source": [
        "# Run this cell without changes\n",
        "\n",
        "ny = df.loc[df[\"_STATE\"] == \"New York\", \"PHYSHLTH\"]\n",
        "nj = df.loc[df[\"_STATE\"] == \"New Jersey\", \"PHYSHLTH\"]\n",
        "ct = df.loc[df[\"_STATE\"] == \"Connecticut\", \"PHYSHLTH\"]\n",
        "\n",
        "fig, ax = plt.subplots(figsize=(15, 6))\n",
        "\n",
        "ax.hist(\n",
        "    x=[ny, nj, ct],\n",
        "    label=[\"New York\", \"New Jersey\", \"Connecticut\"],\n",
        "    bins=range(32),\n",
        "    align=\"left\"\n",
        ")\n",
        "\n",
        "ax.set_xlabel(\"PHYSHLTH\")\n",
        "ax.set_ylabel(\"Count\")\n",
        "ax.set_title(\"Distribution of PHYSHLTH by State\")\n",
        "\n",
        "ax.legend(title=\"State\");"
      ]
    },
    {
      "cell_type": "markdown",
      "metadata": {
        "id": "Al4ollMYqB6p"
      },
      "source": [
        "Looking at the plot above, does the distribution seem to differ by state?\n",
        "\n",
        "(Just answer based on a visual inspection; we will do the statistical assessment next.)"
      ]
    },
    {
      "cell_type": "code",
      "execution_count": 28,
      "metadata": {
        "id": "gr_s4etZqB6p",
        "outputId": "c8d8b91a-eff4-4256-a73b-7936f81111ff",
        "colab": {
          "base_uri": "https://localhost:8080/",
          "height": 36
        }
      },
      "outputs": [
        {
          "output_type": "execute_result",
          "data": {
            "text/plain": [
              "'\\nNo, it seems to be equal.\\n'"
            ],
            "application/vnd.google.colaboratory.intrinsic+json": {
              "type": "string"
            }
          },
          "metadata": {},
          "execution_count": 28
        }
      ],
      "source": [
        "# Replace None with appropriate text\n",
        "\"\"\"\n",
        "No, it seems to be equal.\n",
        "\"\"\""
      ]
    },
    {
      "cell_type": "markdown",
      "metadata": {
        "id": "P3ht0TK9qB6p"
      },
      "source": [
        "For the statistical test, we will be comparing the *means* of `PHYSHLTH` across states, as a representation of the overall distribution. In other words, when operationalizing the question **does `PHYSHLTH` differ by state?** we want to answer that in terms of the mean `PHYSHLTH`.\n",
        "\n",
        "Let's look at those means:"
      ]
    },
    {
      "cell_type": "code",
      "execution_count": 29,
      "metadata": {
        "id": "HxrwMTZ8qB6p",
        "outputId": "98f22047-3720-4433-fe0a-94ec50f7845d",
        "colab": {
          "base_uri": "https://localhost:8080/"
        }
      },
      "outputs": [
        {
          "output_type": "execute_result",
          "data": {
            "text/plain": [
              "_STATE\n",
              "Connecticut    3.688562\n",
              "New Jersey     4.380957\n",
              "New York       4.148030\n",
              "Name: PHYSHLTH, dtype: float64"
            ]
          },
          "metadata": {},
          "execution_count": 29
        }
      ],
      "source": [
        "# Run this cell without changes\n",
        "df.groupby(\"_STATE\")[\"PHYSHLTH\"].mean()"
      ]
    },
    {
      "cell_type": "markdown",
      "metadata": {
        "id": "z3K6pquUqB6p"
      },
      "source": [
        "You likely noted that the overall distribution looked about the same, but these means are different. We have a range from Connecticut with about 3.7 days of bad health to New Jersey with about 4.4 days. But is that difference statistically significant?"
      ]
    },
    {
      "cell_type": "markdown",
      "metadata": {
        "id": "0xR6UIIkqB6p"
      },
      "source": [
        "Identify which of the statistical tests you have learned is the most appropriate for this question, and why. Make sure you mention what kinds of variables are being compared (numeric and categorical), and how many categories there are."
      ]
    },
    {
      "cell_type": "code",
      "execution_count": 30,
      "metadata": {
        "id": "hegz3k27qB6p",
        "outputId": "b8418408-45ce-4dbf-a759-c37324e535fc",
        "colab": {
          "base_uri": "https://localhost:8080/",
          "height": 53
        }
      },
      "outputs": [
        {
          "output_type": "execute_result",
          "data": {
            "text/plain": [
              "'\\nI think that the most appropriate test is independent, two sample t-test. \\n\\nThis is because this test is used to compare if two independent sample means are the same. \\n\\nHere we are comparing two means (mean of days with bad physical health) taken from the samples of two states.\\n'"
            ],
            "application/vnd.google.colaboratory.intrinsic+json": {
              "type": "string"
            }
          },
          "metadata": {},
          "execution_count": 30
        }
      ],
      "source": [
        "# Replace None with appropriate text\n",
        "\"\"\"\n",
        "ANOVA is the most appropriate because we are comparing the means of 3 states. \n",
        "\"\"\""
      ]
    },
    {
      "cell_type": "markdown",
      "metadata": {
        "id": "0H0Nj6IFqB6p"
      },
      "source": [
        "Now, identify the null and alternative hypotheses:"
      ]
    },
    {
      "cell_type": "code",
      "execution_count": 32,
      "metadata": {
        "id": "YsBYGtn4qB6p",
        "outputId": "7e36e164-1557-450e-8dbe-e838d3d97094",
        "colab": {
          "base_uri": "https://localhost:8080/",
          "height": 36
        }
      },
      "outputs": [
        {
          "output_type": "execute_result",
          "data": {
            "text/plain": [
              "'\\nH0 (Null hypothesis) = The sample means are the same \\n\\nH1 (Alternative) = They are different\\n'"
            ],
            "application/vnd.google.colaboratory.intrinsic+json": {
              "type": "string"
            }
          },
          "metadata": {},
          "execution_count": 32
        }
      ],
      "source": [
        "# Replace None with appropriate text\n",
        "\"\"\"\n",
        "H0 (Null hypothesis) = The sample means are the same across the states\n",
        "\n",
        "H1 (Alternative) = They are different across the states\n",
        "\"\"\""
      ]
    },
    {
      "cell_type": "markdown",
      "metadata": {
        "id": "RiWgXZ9cqB6q"
      },
      "source": [
        "In the cell below, we set up and execute the statistical test for you. If this doesn't match your previous answer about which test to perform, look at the solution branch to understand why this is the appropriate test."
      ]
    },
    {
      "cell_type": "code",
      "execution_count": 31,
      "metadata": {
        "id": "qh3yJdw5qB6q",
        "outputId": "b0e27ffb-ceaa-4884-cd60-77247a598326",
        "colab": {
          "base_uri": "https://localhost:8080/",
          "height": 112
        }
      },
      "outputs": [
        {
          "output_type": "execute_result",
          "data": {
            "text/plain": [
              "                df        sum_sq      mean_sq          F        PR(>F)\n",
              "C(_STATE)      2.0  2.687322e+03  1343.660882  18.558645  8.800607e-09\n",
              "Residual   33744.0  2.443093e+06    72.400809        NaN           NaN"
            ],
            "text/html": [
              "\n",
              "  <div id=\"df-1acebaa2-8d7c-4730-9bc1-637e732f66e2\">\n",
              "    <div class=\"colab-df-container\">\n",
              "      <div>\n",
              "<style scoped>\n",
              "    .dataframe tbody tr th:only-of-type {\n",
              "        vertical-align: middle;\n",
              "    }\n",
              "\n",
              "    .dataframe tbody tr th {\n",
              "        vertical-align: top;\n",
              "    }\n",
              "\n",
              "    .dataframe thead th {\n",
              "        text-align: right;\n",
              "    }\n",
              "</style>\n",
              "<table border=\"1\" class=\"dataframe\">\n",
              "  <thead>\n",
              "    <tr style=\"text-align: right;\">\n",
              "      <th></th>\n",
              "      <th>df</th>\n",
              "      <th>sum_sq</th>\n",
              "      <th>mean_sq</th>\n",
              "      <th>F</th>\n",
              "      <th>PR(&gt;F)</th>\n",
              "    </tr>\n",
              "  </thead>\n",
              "  <tbody>\n",
              "    <tr>\n",
              "      <th>C(_STATE)</th>\n",
              "      <td>2.0</td>\n",
              "      <td>2.687322e+03</td>\n",
              "      <td>1343.660882</td>\n",
              "      <td>18.558645</td>\n",
              "      <td>8.800607e-09</td>\n",
              "    </tr>\n",
              "    <tr>\n",
              "      <th>Residual</th>\n",
              "      <td>33744.0</td>\n",
              "      <td>2.443093e+06</td>\n",
              "      <td>72.400809</td>\n",
              "      <td>NaN</td>\n",
              "      <td>NaN</td>\n",
              "    </tr>\n",
              "  </tbody>\n",
              "</table>\n",
              "</div>\n",
              "      <button class=\"colab-df-convert\" onclick=\"convertToInteractive('df-1acebaa2-8d7c-4730-9bc1-637e732f66e2')\"\n",
              "              title=\"Convert this dataframe to an interactive table.\"\n",
              "              style=\"display:none;\">\n",
              "        \n",
              "  <svg xmlns=\"http://www.w3.org/2000/svg\" height=\"24px\"viewBox=\"0 0 24 24\"\n",
              "       width=\"24px\">\n",
              "    <path d=\"M0 0h24v24H0V0z\" fill=\"none\"/>\n",
              "    <path d=\"M18.56 5.44l.94 2.06.94-2.06 2.06-.94-2.06-.94-.94-2.06-.94 2.06-2.06.94zm-11 1L8.5 8.5l.94-2.06 2.06-.94-2.06-.94L8.5 2.5l-.94 2.06-2.06.94zm10 10l.94 2.06.94-2.06 2.06-.94-2.06-.94-.94-2.06-.94 2.06-2.06.94z\"/><path d=\"M17.41 7.96l-1.37-1.37c-.4-.4-.92-.59-1.43-.59-.52 0-1.04.2-1.43.59L10.3 9.45l-7.72 7.72c-.78.78-.78 2.05 0 2.83L4 21.41c.39.39.9.59 1.41.59.51 0 1.02-.2 1.41-.59l7.78-7.78 2.81-2.81c.8-.78.8-2.07 0-2.86zM5.41 20L4 18.59l7.72-7.72 1.47 1.35L5.41 20z\"/>\n",
              "  </svg>\n",
              "      </button>\n",
              "      \n",
              "  <style>\n",
              "    .colab-df-container {\n",
              "      display:flex;\n",
              "      flex-wrap:wrap;\n",
              "      gap: 12px;\n",
              "    }\n",
              "\n",
              "    .colab-df-convert {\n",
              "      background-color: #E8F0FE;\n",
              "      border: none;\n",
              "      border-radius: 50%;\n",
              "      cursor: pointer;\n",
              "      display: none;\n",
              "      fill: #1967D2;\n",
              "      height: 32px;\n",
              "      padding: 0 0 0 0;\n",
              "      width: 32px;\n",
              "    }\n",
              "\n",
              "    .colab-df-convert:hover {\n",
              "      background-color: #E2EBFA;\n",
              "      box-shadow: 0px 1px 2px rgba(60, 64, 67, 0.3), 0px 1px 3px 1px rgba(60, 64, 67, 0.15);\n",
              "      fill: #174EA6;\n",
              "    }\n",
              "\n",
              "    [theme=dark] .colab-df-convert {\n",
              "      background-color: #3B4455;\n",
              "      fill: #D2E3FC;\n",
              "    }\n",
              "\n",
              "    [theme=dark] .colab-df-convert:hover {\n",
              "      background-color: #434B5C;\n",
              "      box-shadow: 0px 1px 3px 1px rgba(0, 0, 0, 0.15);\n",
              "      filter: drop-shadow(0px 1px 2px rgba(0, 0, 0, 0.3));\n",
              "      fill: #FFFFFF;\n",
              "    }\n",
              "  </style>\n",
              "\n",
              "      <script>\n",
              "        const buttonEl =\n",
              "          document.querySelector('#df-1acebaa2-8d7c-4730-9bc1-637e732f66e2 button.colab-df-convert');\n",
              "        buttonEl.style.display =\n",
              "          google.colab.kernel.accessAllowed ? 'block' : 'none';\n",
              "\n",
              "        async function convertToInteractive(key) {\n",
              "          const element = document.querySelector('#df-1acebaa2-8d7c-4730-9bc1-637e732f66e2');\n",
              "          const dataTable =\n",
              "            await google.colab.kernel.invokeFunction('convertToInteractive',\n",
              "                                                     [key], {});\n",
              "          if (!dataTable) return;\n",
              "\n",
              "          const docLinkHtml = 'Like what you see? Visit the ' +\n",
              "            '<a target=\"_blank\" href=https://colab.research.google.com/notebooks/data_table.ipynb>data table notebook</a>'\n",
              "            + ' to learn more about interactive tables.';\n",
              "          element.innerHTML = '';\n",
              "          dataTable['output_type'] = 'display_data';\n",
              "          await google.colab.output.renderOutput(dataTable, element);\n",
              "          const docLink = document.createElement('div');\n",
              "          docLink.innerHTML = docLinkHtml;\n",
              "          element.appendChild(docLink);\n",
              "        }\n",
              "      </script>\n",
              "    </div>\n",
              "  </div>\n",
              "  "
            ]
          },
          "metadata": {},
          "execution_count": 31
        }
      ],
      "source": [
        "# Run this cell without changes\n",
        "import statsmodels.api as sm\n",
        "from statsmodels.formula.api import ols\n",
        "\n",
        "formula = 'PHYSHLTH ~ C(_STATE)'\n",
        "lm = ols(formula, df).fit()\n",
        "sm.stats.anova_lm(lm)"
      ]
    },
    {
      "cell_type": "markdown",
      "metadata": {
        "id": "71MRqBXFqB6q"
      },
      "source": [
        "Interpret the results of this statistical test below. What is the calculated p-value? Were we able to reject the null hypothesis at an alpha of 0.05? What does this say about how `PHYSHLTH` varies by state? What recommendations would you make to the business?"
      ]
    },
    {
      "cell_type": "code",
      "execution_count": 33,
      "metadata": {
        "id": "2xbCwqygqB6q",
        "outputId": "907b2a6d-e5b0-42cb-c89b-25fdcf827acd",
        "colab": {
          "base_uri": "https://localhost:8080/",
          "height": 70
        }
      },
      "outputs": [
        {
          "output_type": "execute_result",
          "data": {
            "text/plain": [
              "\"\\nThe p-value is significantly smaller than the alpha of 0.05. Therefore we can reject the null hypothesis in favor of the alternative hypothesis that the means across the states are different. \\n\\nAlthough the means look the same on the surface, in reality they're statistically different, and the business should investigate what causes these slight differences.\\n\""
            ],
            "application/vnd.google.colaboratory.intrinsic+json": {
              "type": "string"
            }
          },
          "metadata": {},
          "execution_count": 33
        }
      ],
      "source": [
        "# Replace None with appropriate text\n",
        "\"\"\"\n",
        "The p-value is significantly smaller than the alpha of 0.05. Therefore we can reject the null hypothesis in favor of the alternative hypothesis that the means across the states are different. \n",
        "\n",
        "Although the means look the same on the surface, in reality they're statistically different, and the business should investigate what causes these slight differences.\n",
        "\"\"\""
      ]
    },
    {
      "cell_type": "markdown",
      "metadata": {
        "id": "2Xl_HqdAqB6q"
      },
      "source": [
        "With that section wrapped up, let's move on to the next step."
      ]
    },
    {
      "cell_type": "markdown",
      "metadata": {
        "id": "ARQEt6e4qB6q"
      },
      "source": [
        "## 3. Describe the Relationship between Health Status and Home Ownership Status\n",
        "\n",
        "This time, we want to categorize respondents by demographic information: specifically, we'll look at whether or not they own their home.\n",
        "\n",
        "Once again, this will require some data preparation. The variable of interest is contained in the `RENTHOM1` column. Currently the values look like this:"
      ]
    },
    {
      "cell_type": "code",
      "execution_count": 34,
      "metadata": {
        "id": "E-zBRnWFqB6q",
        "outputId": "a95a653f-fd07-48ad-f129-c522ae2ed27d",
        "colab": {
          "base_uri": "https://localhost:8080/"
        }
      },
      "outputs": [
        {
          "output_type": "execute_result",
          "data": {
            "text/plain": [
              "1.0    21690\n",
              "2.0    10244\n",
              "3.0     1526\n",
              "9.0      194\n",
              "7.0       93\n",
              "Name: RENTHOM1, dtype: int64"
            ]
          },
          "metadata": {},
          "execution_count": 34
        }
      ],
      "source": [
        "# Run this cell without changes\n",
        "df[\"RENTHOM1\"].value_counts()"
      ]
    },
    {
      "cell_type": "markdown",
      "metadata": {
        "id": "89IuI4j4qB6q"
      },
      "source": [
        "In the cell below, modify `df` so that we have dropped all records where the `RENTHOM1` value label is neither `Own` nor `Rent`, and we have replaced the numeric codes with `Own` and `Rent` respectively. You can find more information about codes on page 33 of the data dictionary."
      ]
    },
    {
      "cell_type": "code",
      "execution_count": 38,
      "metadata": {
        "id": "Dmeibxw7qB6q"
      },
      "outputs": [],
      "source": [
        "# Your code here\n",
        "df.loc[df[\"RENTHOM1\"] == 1.0, \"RENTHOM1\"] = 'Own'\n",
        "df.loc[df[\"RENTHOM1\"] == 2.0, \"RENTHOM1\"] = \"Rent\"\n",
        "\n",
        "df.drop(df[df[\"RENTHOM1\"] == 3.0].index, inplace=True)\n",
        "df.drop(df[df['RENTHOM1'] == 9.0].index, inplace=True)\n",
        "df.drop(df[df['RENTHOM1'] == 7.0].index, inplace=True)\n"
      ]
    },
    {
      "cell_type": "code",
      "execution_count": 39,
      "metadata": {
        "id": "t0EGFuGrqB6q",
        "outputId": "4c7537da-a9cd-41b8-fb64-f5a26f37e4fa",
        "colab": {
          "base_uri": "https://localhost:8080/"
        }
      },
      "outputs": [
        {
          "output_type": "execute_result",
          "data": {
            "text/plain": [
              "Own     21690\n",
              "Rent    10244\n",
              "Name: RENTHOM1, dtype: int64"
            ]
          },
          "metadata": {},
          "execution_count": 39
        }
      ],
      "source": [
        "# Run this cell without changes\n",
        "df[\"RENTHOM1\"].value_counts()"
      ]
    },
    {
      "cell_type": "markdown",
      "metadata": {
        "id": "DYMeESdTqB6q"
      },
      "source": [
        "Below, we check that this was done correctly:"
      ]
    },
    {
      "cell_type": "code",
      "execution_count": 40,
      "metadata": {
        "id": "2c5JwwH8qB6q"
      },
      "outputs": [],
      "source": [
        "# Run this cell without changes\n",
        "\n",
        "# Number of rows should be smaller again\n",
        "assert df.shape == (31934, 358)\n",
        "\n",
        "# Only two values should be present in this column\n",
        "assert sorted(list(df[\"RENTHOM1\"].value_counts().index)) == ['Own', 'Rent']"
      ]
    },
    {
      "cell_type": "markdown",
      "metadata": {
        "id": "ARxsxFg7qB6q"
      },
      "source": [
        "Now, similar to the previous step, create a plot that shows the distribution of `PHYSHLTH` for those who own vs. rent their homes, including appropriate axis labels and legend. Because there is more of an imbalance of categories this time (more than twice as many owners as renters, compared to nearly-even numbers from New York, New Jersey, and Connecticut), make sure you add the argument `density=True`, so that the y-axis shows the density (proportion) rather than the count."
      ]
    },
    {
      "cell_type": "code",
      "execution_count": null,
      "metadata": {
        "id": "5ZO_RV7MqB6q"
      },
      "outputs": [],
      "source": [
        "# Your code here"
      ]
    },
    {
      "cell_type": "markdown",
      "metadata": {
        "id": "9i46ULuJqB6q"
      },
      "source": [
        "Then run this code to find the averages:"
      ]
    },
    {
      "cell_type": "code",
      "execution_count": null,
      "metadata": {
        "id": "WcuwSEFMqB6q"
      },
      "outputs": [],
      "source": [
        "# Run this cell without changes\n",
        "df.groupby(\"RENTHOM1\")[\"PHYSHLTH\"].mean()"
      ]
    },
    {
      "cell_type": "markdown",
      "metadata": {
        "id": "BXF8-87jqB6q"
      },
      "source": [
        "Now, interpret the plot and averages. Does it seem like there a difference in the number of unhealthy days between those who rent their homes and those who own their homes? How does this compare to the distributions by state?"
      ]
    },
    {
      "cell_type": "code",
      "execution_count": null,
      "metadata": {
        "id": "0E6Gkz9YqB6r"
      },
      "outputs": [],
      "source": [
        "# Replace None with appropriate text\n",
        "\"\"\"\n",
        "None\n",
        "\"\"\""
      ]
    },
    {
      "cell_type": "markdown",
      "metadata": {
        "id": "kyHyRb9VqB6r"
      },
      "source": [
        "Now, choose and execute an appropriate statistical test. Make sure you describe why you chose the test, the null and alternative hypotheses, and what the result of the test means."
      ]
    },
    {
      "cell_type": "code",
      "execution_count": null,
      "metadata": {
        "id": "2YsIbAzyqB6r"
      },
      "outputs": [],
      "source": [
        "# Your code here (create additional cells as needed)"
      ]
    },
    {
      "cell_type": "markdown",
      "metadata": {
        "id": "dtpz47EmqB6r"
      },
      "source": [
        "## 4. Describe the Relationship between Chronic Sickness and Nicotine Use\n",
        "\n",
        "Once again, this will require some preparation before we can run the statistical test. Create a new column `NICOTINE_USE` with 1 representing someone who uses or has used nicotine in some form, and 0 representing someone who hasn't.\n",
        "\n",
        "We define nicotine use as:\n",
        "\n",
        "* Answered `Yes` to the `SMOKE100` question (*Have you smoked at least 100 cigarettes in your entire life?*, page 43), OR\n",
        "* Answered `Every day` or `Some days` to the `USENOW3` question (*Do you currently use chewing tobacco, snuff, or snus every day, some days, or not at all?*, page 46), OR\n",
        "* Answered `Yes` to the `ECIGARET` question (*Have you ever used an e-cigarette or other electronic vaping product, even just one time, in your entire life?*, page 46)\n",
        "\n",
        "If a record matches one or more of the above criteria, `NICOTINE_USE` should be 1. Otherwise, `NICOTINE_USE` should be 0. Go ahead and keep all of the \"Don't know\" or \"Refused\" answers as 0."
      ]
    },
    {
      "cell_type": "code",
      "execution_count": null,
      "metadata": {
        "id": "pHugxhDgqB6r"
      },
      "outputs": [],
      "source": [
        "# Your code here\n",
        "\n",
        "# Look at the distribution of values\n",
        "df[\"NICOTINE_USE\"].value_counts(normalize=True)"
      ]
    },
    {
      "cell_type": "markdown",
      "metadata": {
        "id": "dTzZGul1qB6r"
      },
      "source": [
        "This time, let's treat health status as a categorical variable. We'll say that a \"chronically sick\" person is a person who reports that their physical health was not good for 15 or more out of the past 30 days. (This is a simplification but it will work for this analysis.)\n",
        "\n",
        "In the cell below, create a new column of `df` called `CHRONIC`, which is 0 for records where `PHYSHLTH` is less than 15, and 1 for records where `PHYSHLTH` is 15 or more."
      ]
    },
    {
      "cell_type": "code",
      "execution_count": null,
      "metadata": {
        "id": "I_pf9yFGqB6r"
      },
      "outputs": [],
      "source": [
        "# Your code here\n",
        "\n",
        "# View the distribution of the newly-created column\n",
        "df[\"CHRONIC\"].value_counts()"
      ]
    },
    {
      "cell_type": "markdown",
      "metadata": {
        "id": "YeFb7G57qB6r"
      },
      "source": [
        "Now we can view the crosstabs for these two categorical variables, as well as display their distributions:"
      ]
    },
    {
      "cell_type": "code",
      "execution_count": null,
      "metadata": {
        "id": "1V0CPqcTqB6r"
      },
      "outputs": [],
      "source": [
        "# Run this cell without changes\n",
        "contingency_table = pd.crosstab(index=df[\"CHRONIC\"], columns=df[\"NICOTINE_USE\"])\n",
        "contingency_table"
      ]
    },
    {
      "cell_type": "code",
      "execution_count": null,
      "metadata": {
        "id": "LxGYmF1_qB6r"
      },
      "outputs": [],
      "source": [
        "# Run this cell without changes\n",
        "\n",
        "no_nicotine_use = df.loc[df[\"NICOTINE_USE\"] == 0, \"CHRONIC\"]\n",
        "nicotine_use = df.loc[df[\"NICOTINE_USE\"] == 1, \"CHRONIC\"]\n",
        "\n",
        "fig, ax = plt.subplots()\n",
        "\n",
        "ax.hist(\n",
        "    x=[no_nicotine_use, nicotine_use],\n",
        "    label=[\"No Nicotine Use\", \"Nicotine Use\"],\n",
        "    bins=[0,1,2],\n",
        "    align=\"left\"\n",
        ")\n",
        "\n",
        "ax.set_ylabel(\"Count\")\n",
        "ax.set_xticks([0,1])\n",
        "ax.set_xticklabels([\"Not Chronically Sick\", \"Chronically Sick\"])\n",
        "ax.set_title(\"Distribution of Chronic Sickness by Nicotine Use\")\n",
        "\n",
        "ax.legend();"
      ]
    },
    {
      "cell_type": "markdown",
      "metadata": {
        "id": "ePpH-4JVqB6r"
      },
      "source": [
        "Once again, it appears that there is a difference in health outcomes between these categories. In the cell below, select an appropriate statistical test, describe the null and alternative hypotheses, execute the test, and interpret the result."
      ]
    },
    {
      "cell_type": "code",
      "execution_count": null,
      "metadata": {
        "id": "o0CKZ0s1qB6r"
      },
      "outputs": [],
      "source": [
        "# Your code here (create additional cells as needed)"
      ]
    },
    {
      "cell_type": "markdown",
      "metadata": {
        "id": "a1tonhOHqB6r"
      },
      "source": [
        "## 5. Choose Your Own Question\n",
        "\n",
        "Now that you have investigated physical health and chronic sickness and their relationships with state, home ownership, and nicotine use, you will conduct a similar investigation with variables of your choosing.\n",
        "\n",
        "Select an independent variable based on looking at the information in the data dictionary, and perform any additional transformations needed to use it in an analysis. Then set up, execute, and interpret a statistical test that addresses the relationship between that independent variable and `PHYSHLTH`.\n",
        "\n",
        "(There is no solution branch for this question, and feel free to move on if you have already spent more than 1.5 hours on this lab.)"
      ]
    },
    {
      "cell_type": "code",
      "execution_count": null,
      "metadata": {
        "id": "NLSLMxHdqB6r"
      },
      "outputs": [],
      "source": [
        "# Your code here (create additional cells as needed)"
      ]
    },
    {
      "cell_type": "markdown",
      "metadata": {
        "id": "lFc-UAODqB6r"
      },
      "source": [
        "## Conclusion\n",
        "\n",
        "Congratulations, another cumulative lab down! In this lab you practiced reading a data dictionary, performing various data transformations with pandas, and executing statistical tests to address business questions."
      ]
    }
  ],
  "metadata": {
    "kernelspec": {
      "display_name": "Python (learn-env)",
      "language": "python",
      "name": "learn-env"
    },
    "language_info": {
      "codemirror_mode": {
        "name": "ipython",
        "version": 3
      },
      "file_extension": ".py",
      "mimetype": "text/x-python",
      "name": "python",
      "nbconvert_exporter": "python",
      "pygments_lexer": "ipython3",
      "version": "3.8.5"
    },
    "colab": {
      "provenance": []
    }
  },
  "nbformat": 4,
  "nbformat_minor": 0
}